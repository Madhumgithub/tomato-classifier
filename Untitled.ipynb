{
 "cells": [
  {
   "cell_type": "code",
   "execution_count": 1,
   "id": "10392878-87a8-4700-877b-553a799afe33",
   "metadata": {},
   "outputs": [
    {
     "name": "stderr",
     "output_type": "stream",
     "text": [
      "Matplotlib is building the font cache; this may take a moment.\n"
     ]
    }
   ],
   "source": [
    "import os\n",
    "import cv2  # For image processing\n",
    "import numpy as np  # For array manipulations\n",
    "import matplotlib.pyplot as plt  # For visualizing data\n",
    "from sklearn.model_selection import train_test_split  # For splitting data\n",
    "from tensorflow.keras.utils import to_categorical  # For converting labels to one-hot encoding\n"
   ]
  },
  {
   "cell_type": "code",
   "execution_count": 2,
   "id": "314e9b86-df04-43db-8340-24a1bcb8f9b2",
   "metadata": {},
   "outputs": [],
   "source": [
    "IMAGE_SIZE = 128  # Resize all images to 128x128\n",
    "\n",
    "def load_images(data_dir):\n",
    "    images = []  # List to hold all images\n",
    "    labels = []  # List to hold corresponding labels\n",
    "\n",
    "    # Iterate over the 'Ripe' and 'Unripe' directories\n",
    "    for label in ['Ripe', 'Unripe']:\n",
    "        path = os.path.join(data_dir, label)  # Path to either Ripe or Unripe directory\n",
    "        class_num = 0 if label == 'Ripe' else 1  # Assign 0 for Ripe, 1 for Unripe\n",
    "        \n",
    "        # Load each image from the directory\n",
    "        for img_name in os.listdir(path):\n",
    "            img_path = os.path.join(path, img_name)  # Full image path\n",
    "            img = cv2.imread(img_path)  # Read the image\n",
    "            img = cv2.resize(img, (IMAGE_SIZE, IMAGE_SIZE))  # Resize the image\n",
    "            img = img / 255.0  # Normalize the pixel values\n",
    "            \n",
    "            images.append(img)  # Add the processed image to the list\n",
    "            labels.append(class_num)  # Add the corresponding label\n",
    "\n",
    "    return np.array(images), np.array(labels)  # Convert lists to NumPy arrays\n"
   ]
  },
  {
   "cell_type": "code",
   "execution_count": 3,
   "id": "109b3525-e5af-4f33-9599-15bf17660425",
   "metadata": {},
   "outputs": [
    {
     "ename": "FileNotFoundError",
     "evalue": "[WinError 3] The system cannot find the path specified: './tomato_dataset\\\\Ripe'",
     "output_type": "error",
     "traceback": [
      "\u001b[1;31m---------------------------------------------------------------------------\u001b[0m",
      "\u001b[1;31mFileNotFoundError\u001b[0m                         Traceback (most recent call last)",
      "Cell \u001b[1;32mIn[3], line 2\u001b[0m\n\u001b[0;32m      1\u001b[0m data_dir \u001b[38;5;241m=\u001b[39m \u001b[38;5;124m'\u001b[39m\u001b[38;5;124m./tomato_dataset\u001b[39m\u001b[38;5;124m'\u001b[39m  \u001b[38;5;66;03m# Path to your dataset folder\u001b[39;00m\n\u001b[1;32m----> 2\u001b[0m images, labels \u001b[38;5;241m=\u001b[39m \u001b[43mload_images\u001b[49m\u001b[43m(\u001b[49m\u001b[43mdata_dir\u001b[49m\u001b[43m)\u001b[49m  \u001b[38;5;66;03m# Load images and labels\u001b[39;00m\n",
      "Cell \u001b[1;32mIn[2], line 13\u001b[0m, in \u001b[0;36mload_images\u001b[1;34m(data_dir)\u001b[0m\n\u001b[0;32m     10\u001b[0m class_num \u001b[38;5;241m=\u001b[39m \u001b[38;5;241m0\u001b[39m \u001b[38;5;28;01mif\u001b[39;00m label \u001b[38;5;241m==\u001b[39m \u001b[38;5;124m'\u001b[39m\u001b[38;5;124mRipe\u001b[39m\u001b[38;5;124m'\u001b[39m \u001b[38;5;28;01melse\u001b[39;00m \u001b[38;5;241m1\u001b[39m  \u001b[38;5;66;03m# Assign 0 for Ripe, 1 for Unripe\u001b[39;00m\n\u001b[0;32m     12\u001b[0m \u001b[38;5;66;03m# Load each image from the directory\u001b[39;00m\n\u001b[1;32m---> 13\u001b[0m \u001b[38;5;28;01mfor\u001b[39;00m img_name \u001b[38;5;129;01min\u001b[39;00m \u001b[43mos\u001b[49m\u001b[38;5;241;43m.\u001b[39;49m\u001b[43mlistdir\u001b[49m\u001b[43m(\u001b[49m\u001b[43mpath\u001b[49m\u001b[43m)\u001b[49m:\n\u001b[0;32m     14\u001b[0m     img_path \u001b[38;5;241m=\u001b[39m os\u001b[38;5;241m.\u001b[39mpath\u001b[38;5;241m.\u001b[39mjoin(path, img_name)  \u001b[38;5;66;03m# Full image path\u001b[39;00m\n\u001b[0;32m     15\u001b[0m     img \u001b[38;5;241m=\u001b[39m cv2\u001b[38;5;241m.\u001b[39mimread(img_path)  \u001b[38;5;66;03m# Read the image\u001b[39;00m\n",
      "\u001b[1;31mFileNotFoundError\u001b[0m: [WinError 3] The system cannot find the path specified: './tomato_dataset\\\\Ripe'"
     ]
    }
   ],
   "source": [
    "data_dir = './tomato_dataset'  # Path to your dataset folder\n",
    "images, labels = load_images(data_dir)  # Load images and labels\n"
   ]
  },
  {
   "cell_type": "code",
   "execution_count": null,
   "id": "fea59f06-4fff-4c95-bb43-6711f4ce5266",
   "metadata": {},
   "outputs": [],
   "source": [
    "def plot_images(images, labels):\n",
    "    plt.figure(figsize=(10, 10))\n",
    "    for i in range(9):  # Display 9 images in a 3x3 grid\n",
    "        plt.subplot(3, 3, i+1)\n",
    "        plt.imshow(images[i])\n",
    "        plt.title(\"Ripe\" if labels[i] == 0 else \"Unripe\")\n",
    "        plt.axis('off')\n",
    "    plt.show()\n",
    "\n",
    "plot_images(images, labels)\n"
   ]
  },
  {
   "cell_type": "code",
   "execution_count": null,
   "id": "f1df1a80-b56b-49b0-9bb1-6d2298b53d9f",
   "metadata": {},
   "outputs": [],
   "source": [
    "X_train, X_val, y_train, y_val = train_test_split(images, labels, test_size=0.2, random_state=42)\n",
    "y_train = to_categorical(y_train, 2)\n",
    "y_val = to_categorical(y_val, 2)\n"
   ]
  },
  {
   "cell_type": "code",
   "execution_count": null,
   "id": "84cea09a-1b02-49ba-9e68-47e69c53b631",
   "metadata": {},
   "outputs": [],
   "source": []
  }
 ],
 "metadata": {
  "kernelspec": {
   "display_name": "Python 3 (ipykernel)",
   "language": "python",
   "name": "python3"
  },
  "language_info": {
   "codemirror_mode": {
    "name": "ipython",
    "version": 3
   },
   "file_extension": ".py",
   "mimetype": "text/x-python",
   "name": "python",
   "nbconvert_exporter": "python",
   "pygments_lexer": "ipython3",
   "version": "3.12.5"
  }
 },
 "nbformat": 4,
 "nbformat_minor": 5
}
